{
 "cells": [
  {
   "cell_type": "code",
   "execution_count": null,
   "id": "c4b239e8-f64c-4337-ad39-34074901650a",
   "metadata": {},
   "outputs": [],
   "source": [
    "# Third-party imports.\n",
    "import numpy as np\n",
    "import matplotlib.pyplot as plt\n",
    "import ipywidgets as widgets\n",
    "from IPython.display import display\n",
    "\n",
    "# Tensorflow imports,\n",
    "import tensorflow as tf\n",
    "from tensorflow import keras\n",
    "from keras.datasets import mnist\n",
    "from keras.utils import to_categorical"
   ]
  },
  {
   "cell_type": "markdown",
   "id": "686b8320-cbee-45e4-a512-6c5c6bb8045c",
   "metadata": {},
   "source": [
    "# Preprocessing Data"
   ]
  },
  {
   "cell_type": "code",
   "execution_count": 100,
   "id": "2dcec6ed-5a7c-4b38-b3d2-3ee17d8e94ce",
   "metadata": {},
   "outputs": [],
   "source": [
    "# Unpacking data,\n",
    "(X_train, Y_train), (X_test, Y_test) = mnist.load_data()\n",
    "\n",
    "# Max normalisation,\n",
    "X_train, X_test = X_train/np.max(X_train), X_test/np.max(X_test)\n",
    "\n",
    "# One-hot encoding labels,\n",
    "Y_train, Y_test = to_categorical(Y_train), to_categorical(Y_test)\n",
    "\n",
    "# Adding channel dimension,\n",
    "X_train = np.expand_dims(X_train, axis = -1)\n",
    "X_test = np.expand_dims(X_test, axis = -1)"
   ]
  },
  {
   "cell_type": "markdown",
   "id": "6413bff9-a710-4f1f-acce-638b23e5736e",
   "metadata": {},
   "source": [
    "# Visualise Data"
   ]
  },
  {
   "cell_type": "code",
   "execution_count": 121,
   "id": "1d30eb14-40a2-4fea-bda4-3a49c8dc36f9",
   "metadata": {},
   "outputs": [
    {
     "data": {
      "application/vnd.jupyter.widget-view+json": {
       "model_id": "b4d459c709894ba09bc01928d69d4301",
       "version_major": 2,
       "version_minor": 0
      },
      "text/plain": [
       "interactive(children=(IntSlider(value=0, description='Index', max=59999), Output()), _dom_classes=('widget-int…"
      ]
     },
     "execution_count": 121,
     "metadata": {},
     "output_type": "execute_result"
    }
   ],
   "source": [
    "def show_image(i):\n",
    "    \"\"\"Function to display the samples of X_train, their shapes and their targets.\"\"\"\n",
    "    plt.figure(figsize=(3, 3))\n",
    "    plt.imshow(np.squeeze(X_train[i]), cmap=\"gray\")\n",
    "    plt.axis(\"off\")\n",
    "    plt.show()\n",
    "    \n",
    "    print(f\"Data Shape: {X_train[i].shape}\")\n",
    "    print(f\"Target: {Y_train[i]}\")\n",
    "\n",
    "# Creating slider widget,\n",
    "slider = widgets.IntSlider(min=0, max=len(X_train)-1, step=1, value=0, description=\"Index\")\n",
    "\n",
    "# Displaying widget,\n",
    "widgets.interactive(show_image, i=slider)"
   ]
  },
  {
   "cell_type": "markdown",
   "id": "ef14166e-4531-4322-aa69-7466c6525510",
   "metadata": {},
   "source": [
    "# Model Archecture & Helper Functions"
   ]
  },
  {
   "cell_type": "code",
   "execution_count": 122,
   "id": "cde3e943-3692-4dc5-baaf-9c7cce9fec03",
   "metadata": {},
   "outputs": [],
   "source": [
    "class Net(keras.Model):\n",
    "    \"\"\"Class for the neural network architecture. Based on the LeNet-5 architecture.\"\"\"\n",
    "\n",
    "    def __init__(self):\n",
    "        \"\"\"Constructor method. Builds the layers and activations of the model.\"\"\"\n",
    "        super(Net, self).__init__()\n",
    "\n",
    "        # First convolutional layer,\n",
    "        self.pad1 = keras.layers.ZeroPadding2D(padding=2)  # Custom padding\n",
    "        self.conv1 = keras.layers.Conv2D(filters=6, kernel_size=5, strides=1, activation=\"relu\")\n",
    "        self.pool1 = keras.layers.MaxPooling2D(pool_size=2, strides=2)\n",
    "\n",
    "        # Second convolutional layer,\n",
    "        self.conv2 = keras.layers.Conv2D(filters=16, kernel_size=5, strides=1, activation=\"relu\")\n",
    "        self.pool2 = keras.layers.MaxPooling2D(pool_size=2, strides=2)\n",
    "\n",
    "        # Flattening data,\n",
    "        self.flatten = keras.layers.Flatten()\n",
    "\n",
    "        # Dense layers,\n",
    "        self.fc1 = keras.layers.Dense(units=120, activation=\"relu\")\n",
    "        self.fc2 = keras.layers.Dense(units=84, activation=\"relu\")\n",
    "        self.fc3 = keras.layers.Dense(units=10, activation=\"softmax\") \n",
    "\n",
    "    def call(self, x):\n",
    "        \"\"\"Forward pass of the neural network.\"\"\"\n",
    "\n",
    "        x = self.pad1(x)  \n",
    "        x = self.conv1(x)\n",
    "        x = self.pool1(x)\n",
    "        x = self.conv2(x)\n",
    "        x = self.pool2(x)\n",
    "        x = self.flatten(x)\n",
    "        x = self.fc1(x)\n",
    "        x = self.fc2(x)\n",
    "        x = self.fc3(x)\n",
    "\n",
    "        return x\n",
    "\n",
    "def compute_accuracy(X_test, Y_test):\n",
    "    \"\"\"Computes the accuracy of the model given a test dataset.\"\"\"\n",
    "\n",
    "    # Model predictions,\n",
    "    Y_test_pred = model(X_test, training=False).numpy()\n",
    "\n",
    "    # Comparing predictions,\n",
    "    correct = 0\n",
    "    for counter, Y_pred in enumerate(Y_test_pred):\n",
    "        if np.argmax(Y_pred) == np.argmax(Y_test[counter]):\n",
    "            correct += 1\n",
    "\n",
    "    # Computing accuracy,\n",
    "    accuracy = correct/(counter + 1)\n",
    "\n",
    "    return accuracy"
   ]
  },
  {
   "cell_type": "markdown",
   "id": "ead581d7",
   "metadata": {},
   "source": [
    "# View Model"
   ]
  },
  {
   "cell_type": "code",
   "execution_count": 123,
   "id": "4ce03c4b",
   "metadata": {},
   "outputs": [
    {
     "data": {
      "text/html": [
       "<pre style=\"white-space:pre;overflow-x:auto;line-height:normal;font-family:Menlo,'DejaVu Sans Mono',consolas,'Courier New',monospace\"><span style=\"font-weight: bold\">Model: \"net_16\"</span>\n",
       "</pre>\n"
      ],
      "text/plain": [
       "\u001b[1mModel: \"net_16\"\u001b[0m\n"
      ]
     },
     "metadata": {},
     "output_type": "display_data"
    },
    {
     "data": {
      "text/html": [
       "<pre style=\"white-space:pre;overflow-x:auto;line-height:normal;font-family:Menlo,'DejaVu Sans Mono',consolas,'Courier New',monospace\">┏━━━━━━━━━━━━━━━━━━━━━━━━━━━━━━━━━┳━━━━━━━━━━━━━━━━━━━━━━━━┳━━━━━━━━━━━━━━━┓\n",
       "┃<span style=\"font-weight: bold\"> Layer (type)                    </span>┃<span style=\"font-weight: bold\"> Output Shape           </span>┃<span style=\"font-weight: bold\">       Param # </span>┃\n",
       "┡━━━━━━━━━━━━━━━━━━━━━━━━━━━━━━━━━╇━━━━━━━━━━━━━━━━━━━━━━━━╇━━━━━━━━━━━━━━━┩\n",
       "│ zero_padding2d_16               │ (<span style=\"color: #00af00; text-decoration-color: #00af00\">1</span>, <span style=\"color: #00af00; text-decoration-color: #00af00\">32</span>, <span style=\"color: #00af00; text-decoration-color: #00af00\">32</span>, <span style=\"color: #00af00; text-decoration-color: #00af00\">1</span>)         │             <span style=\"color: #00af00; text-decoration-color: #00af00\">0</span> │\n",
       "│ (<span style=\"color: #0087ff; text-decoration-color: #0087ff\">ZeroPadding2D</span>)                 │                        │               │\n",
       "├─────────────────────────────────┼────────────────────────┼───────────────┤\n",
       "│ conv2d_33 (<span style=\"color: #0087ff; text-decoration-color: #0087ff\">Conv2D</span>)              │ (<span style=\"color: #00af00; text-decoration-color: #00af00\">1</span>, <span style=\"color: #00af00; text-decoration-color: #00af00\">28</span>, <span style=\"color: #00af00; text-decoration-color: #00af00\">28</span>, <span style=\"color: #00af00; text-decoration-color: #00af00\">6</span>)         │           <span style=\"color: #00af00; text-decoration-color: #00af00\">156</span> │\n",
       "├─────────────────────────────────┼────────────────────────┼───────────────┤\n",
       "│ max_pooling2d_31 (<span style=\"color: #0087ff; text-decoration-color: #0087ff\">MaxPooling2D</span>) │ ?                      │             <span style=\"color: #00af00; text-decoration-color: #00af00\">0</span> │\n",
       "├─────────────────────────────────┼────────────────────────┼───────────────┤\n",
       "│ conv2d_34 (<span style=\"color: #0087ff; text-decoration-color: #0087ff\">Conv2D</span>)              │ (<span style=\"color: #00af00; text-decoration-color: #00af00\">1</span>, <span style=\"color: #00af00; text-decoration-color: #00af00\">10</span>, <span style=\"color: #00af00; text-decoration-color: #00af00\">10</span>, <span style=\"color: #00af00; text-decoration-color: #00af00\">16</span>)        │         <span style=\"color: #00af00; text-decoration-color: #00af00\">2,416</span> │\n",
       "├─────────────────────────────────┼────────────────────────┼───────────────┤\n",
       "│ max_pooling2d_32 (<span style=\"color: #0087ff; text-decoration-color: #0087ff\">MaxPooling2D</span>) │ ?                      │             <span style=\"color: #00af00; text-decoration-color: #00af00\">0</span> │\n",
       "├─────────────────────────────────┼────────────────────────┼───────────────┤\n",
       "│ flatten_15 (<span style=\"color: #0087ff; text-decoration-color: #0087ff\">Flatten</span>)            │ (<span style=\"color: #00af00; text-decoration-color: #00af00\">1</span>, <span style=\"color: #00af00; text-decoration-color: #00af00\">400</span>)               │             <span style=\"color: #00af00; text-decoration-color: #00af00\">0</span> │\n",
       "├─────────────────────────────────┼────────────────────────┼───────────────┤\n",
       "│ dense_44 (<span style=\"color: #0087ff; text-decoration-color: #0087ff\">Dense</span>)                │ (<span style=\"color: #00af00; text-decoration-color: #00af00\">1</span>, <span style=\"color: #00af00; text-decoration-color: #00af00\">120</span>)               │        <span style=\"color: #00af00; text-decoration-color: #00af00\">48,120</span> │\n",
       "├─────────────────────────────────┼────────────────────────┼───────────────┤\n",
       "│ dense_45 (<span style=\"color: #0087ff; text-decoration-color: #0087ff\">Dense</span>)                │ (<span style=\"color: #00af00; text-decoration-color: #00af00\">1</span>, <span style=\"color: #00af00; text-decoration-color: #00af00\">84</span>)                │        <span style=\"color: #00af00; text-decoration-color: #00af00\">10,164</span> │\n",
       "├─────────────────────────────────┼────────────────────────┼───────────────┤\n",
       "│ dense_46 (<span style=\"color: #0087ff; text-decoration-color: #0087ff\">Dense</span>)                │ (<span style=\"color: #00af00; text-decoration-color: #00af00\">1</span>, <span style=\"color: #00af00; text-decoration-color: #00af00\">10</span>)                │           <span style=\"color: #00af00; text-decoration-color: #00af00\">850</span> │\n",
       "└─────────────────────────────────┴────────────────────────┴───────────────┘\n",
       "</pre>\n"
      ],
      "text/plain": [
       "┏━━━━━━━━━━━━━━━━━━━━━━━━━━━━━━━━━┳━━━━━━━━━━━━━━━━━━━━━━━━┳━━━━━━━━━━━━━━━┓\n",
       "┃\u001b[1m \u001b[0m\u001b[1mLayer (type)                   \u001b[0m\u001b[1m \u001b[0m┃\u001b[1m \u001b[0m\u001b[1mOutput Shape          \u001b[0m\u001b[1m \u001b[0m┃\u001b[1m \u001b[0m\u001b[1m      Param #\u001b[0m\u001b[1m \u001b[0m┃\n",
       "┡━━━━━━━━━━━━━━━━━━━━━━━━━━━━━━━━━╇━━━━━━━━━━━━━━━━━━━━━━━━╇━━━━━━━━━━━━━━━┩\n",
       "│ zero_padding2d_16               │ (\u001b[38;5;34m1\u001b[0m, \u001b[38;5;34m32\u001b[0m, \u001b[38;5;34m32\u001b[0m, \u001b[38;5;34m1\u001b[0m)         │             \u001b[38;5;34m0\u001b[0m │\n",
       "│ (\u001b[38;5;33mZeroPadding2D\u001b[0m)                 │                        │               │\n",
       "├─────────────────────────────────┼────────────────────────┼───────────────┤\n",
       "│ conv2d_33 (\u001b[38;5;33mConv2D\u001b[0m)              │ (\u001b[38;5;34m1\u001b[0m, \u001b[38;5;34m28\u001b[0m, \u001b[38;5;34m28\u001b[0m, \u001b[38;5;34m6\u001b[0m)         │           \u001b[38;5;34m156\u001b[0m │\n",
       "├─────────────────────────────────┼────────────────────────┼───────────────┤\n",
       "│ max_pooling2d_31 (\u001b[38;5;33mMaxPooling2D\u001b[0m) │ ?                      │             \u001b[38;5;34m0\u001b[0m │\n",
       "├─────────────────────────────────┼────────────────────────┼───────────────┤\n",
       "│ conv2d_34 (\u001b[38;5;33mConv2D\u001b[0m)              │ (\u001b[38;5;34m1\u001b[0m, \u001b[38;5;34m10\u001b[0m, \u001b[38;5;34m10\u001b[0m, \u001b[38;5;34m16\u001b[0m)        │         \u001b[38;5;34m2,416\u001b[0m │\n",
       "├─────────────────────────────────┼────────────────────────┼───────────────┤\n",
       "│ max_pooling2d_32 (\u001b[38;5;33mMaxPooling2D\u001b[0m) │ ?                      │             \u001b[38;5;34m0\u001b[0m │\n",
       "├─────────────────────────────────┼────────────────────────┼───────────────┤\n",
       "│ flatten_15 (\u001b[38;5;33mFlatten\u001b[0m)            │ (\u001b[38;5;34m1\u001b[0m, \u001b[38;5;34m400\u001b[0m)               │             \u001b[38;5;34m0\u001b[0m │\n",
       "├─────────────────────────────────┼────────────────────────┼───────────────┤\n",
       "│ dense_44 (\u001b[38;5;33mDense\u001b[0m)                │ (\u001b[38;5;34m1\u001b[0m, \u001b[38;5;34m120\u001b[0m)               │        \u001b[38;5;34m48,120\u001b[0m │\n",
       "├─────────────────────────────────┼────────────────────────┼───────────────┤\n",
       "│ dense_45 (\u001b[38;5;33mDense\u001b[0m)                │ (\u001b[38;5;34m1\u001b[0m, \u001b[38;5;34m84\u001b[0m)                │        \u001b[38;5;34m10,164\u001b[0m │\n",
       "├─────────────────────────────────┼────────────────────────┼───────────────┤\n",
       "│ dense_46 (\u001b[38;5;33mDense\u001b[0m)                │ (\u001b[38;5;34m1\u001b[0m, \u001b[38;5;34m10\u001b[0m)                │           \u001b[38;5;34m850\u001b[0m │\n",
       "└─────────────────────────────────┴────────────────────────┴───────────────┘\n"
      ]
     },
     "metadata": {},
     "output_type": "display_data"
    },
    {
     "data": {
      "text/html": [
       "<pre style=\"white-space:pre;overflow-x:auto;line-height:normal;font-family:Menlo,'DejaVu Sans Mono',consolas,'Courier New',monospace\"><span style=\"font-weight: bold\"> Total params: </span><span style=\"color: #00af00; text-decoration-color: #00af00\">61,706</span> (241.04 KB)\n",
       "</pre>\n"
      ],
      "text/plain": [
       "\u001b[1m Total params: \u001b[0m\u001b[38;5;34m61,706\u001b[0m (241.04 KB)\n"
      ]
     },
     "metadata": {},
     "output_type": "display_data"
    },
    {
     "data": {
      "text/html": [
       "<pre style=\"white-space:pre;overflow-x:auto;line-height:normal;font-family:Menlo,'DejaVu Sans Mono',consolas,'Courier New',monospace\"><span style=\"font-weight: bold\"> Trainable params: </span><span style=\"color: #00af00; text-decoration-color: #00af00\">61,706</span> (241.04 KB)\n",
       "</pre>\n"
      ],
      "text/plain": [
       "\u001b[1m Trainable params: \u001b[0m\u001b[38;5;34m61,706\u001b[0m (241.04 KB)\n"
      ]
     },
     "metadata": {},
     "output_type": "display_data"
    },
    {
     "data": {
      "text/html": [
       "<pre style=\"white-space:pre;overflow-x:auto;line-height:normal;font-family:Menlo,'DejaVu Sans Mono',consolas,'Courier New',monospace\"><span style=\"font-weight: bold\"> Non-trainable params: </span><span style=\"color: #00af00; text-decoration-color: #00af00\">0</span> (0.00 B)\n",
       "</pre>\n"
      ],
      "text/plain": [
       "\u001b[1m Non-trainable params: \u001b[0m\u001b[38;5;34m0\u001b[0m (0.00 B)\n"
      ]
     },
     "metadata": {},
     "output_type": "display_data"
    }
   ],
   "source": [
    "# Creating model instance,\n",
    "model = Net()\n",
    "\n",
    "# Passing random tensor into model (TF uses channel first scheme),\n",
    "model(tf.random.normal((1, 28, 28, 1))) \n",
    "\n",
    "# Print model summary\n",
    "model.summary()"
   ]
  },
  {
   "cell_type": "markdown",
   "id": "ef66c080",
   "metadata": {},
   "source": [
    "# Train Model"
   ]
  },
  {
   "cell_type": "code",
   "execution_count": 124,
   "id": "7ee99554",
   "metadata": {},
   "outputs": [
    {
     "name": "stdout",
     "output_type": "stream",
     "text": [
      "Epoch: 1, Training Loss: 0.09558213502168655\n"
     ]
    }
   ],
   "source": [
    "\"\"\"HYPERPARAMERS\"\"\"\n",
    "EPOCHS = 1\n",
    "LEARNING_RATE = 0.001\n",
    "BATCH_SIZE = 128\n",
    "\n",
    "# Creating dataloader,\n",
    "train_dataset = tf.data.Dataset.from_tensor_slices((X_train, Y_train))\n",
    "train_dataset = train_dataset.shuffle(buffer_size=10000).batch(BATCH_SIZE)\n",
    "\n",
    "# Defining loss function,\n",
    "loss_fn = keras.losses.CategoricalCrossentropy()\n",
    "\n",
    "# Creating optimiser,\n",
    "optimiser = keras.optimizers.Adam(learning_rate=LEARNING_RATE)\n",
    "\n",
    "# Training loop (epoch level),\n",
    "for epoch in range(1, (EPOCHS + 1)):\n",
    "\n",
    "    # Training loop (batch_level),\n",
    "    for step, (X_batch, Y_batch) in enumerate(train_dataset):\n",
    "        with tf.GradientTape() as tape:\n",
    "\n",
    "            # Model forward pass,\n",
    "            Y_pred = model(X_batch, training=True)\n",
    "\n",
    "            # Computing loss,\n",
    "            loss = loss_fn(Y_batch, Y_pred)\n",
    "\n",
    "        # Computing gradients,\n",
    "        gradients = tape.gradient(loss, model.trainable_variables)\n",
    "\n",
    "        # Updating weights,\n",
    "        optimiser.apply_gradients(zip(gradients, model.trainable_variables))\n",
    "\n",
    "\n",
    "    print(f\"Epoch: {epoch}, Training Loss: {loss}\")"
   ]
  },
  {
   "cell_type": "markdown",
   "id": "34c0efd5",
   "metadata": {},
   "source": [
    "# Model Accuracy "
   ]
  },
  {
   "cell_type": "code",
   "execution_count": 125,
   "id": "75cfa3cd",
   "metadata": {},
   "outputs": [
    {
     "name": "stdout",
     "output_type": "stream",
     "text": [
      "Model Accuracy: 0.969\n"
     ]
    }
   ],
   "source": [
    "accuracy = compute_accuracy(X_test, Y_test)\n",
    "print(f\"Model Accuracy: {accuracy}\")"
   ]
  }
 ],
 "metadata": {
  "kernelspec": {
   "display_name": "Python 3",
   "language": "python",
   "name": "python3"
  },
  "language_info": {
   "codemirror_mode": {
    "name": "ipython",
    "version": 3
   },
   "file_extension": ".py",
   "mimetype": "text/x-python",
   "name": "python",
   "nbconvert_exporter": "python",
   "pygments_lexer": "ipython3",
   "version": "3.12.5"
  }
 },
 "nbformat": 4,
 "nbformat_minor": 5
}
