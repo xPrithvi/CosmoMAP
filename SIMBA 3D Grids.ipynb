{
 "cells": [
  {
   "cell_type": "code",
   "execution_count": 1,
   "id": "ebe10445-e575-4eb7-ab7b-c53307ae0b99",
   "metadata": {},
   "outputs": [],
   "source": [
    "# Third-party imports,\n",
    "import numpy as np\n",
    "import matplotlib.pyplot as plt\n",
    "from matplotlib.widgets import Slider\n",
    "from matplotlib.ticker import FuncFormatter\n",
    "import ipywidgets as widgets\n",
    "from IPython.display import display\n",
    "import torch\n",
    "\n",
    "# Python Standard Library imports,\n",
    "import gc\n",
    "import sys\n",
    "\n",
    "# Loading data,\n",
    "TEST = True\n",
    "QUANTITY = \"Dark Matter Mass Density\"\n",
    "UNITS = r\"$M_{\\odot}/h/(Mpc/h)^3$\"\n",
    "SPEC = \"SIMBA_CV_z=0\"\n",
    "grids = np.load(\"CAMELs\\\\SIMBA_CV_z=0\\\\Grids_Mcdm_SIMBA_CV_128_z=0.0.npy\")\n",
    "\n",
    "# Used for creating testing training data,\n",
    "if TEST:\n",
    "    grids = grids[0:5]\n",
    "\n",
    "# dark matter density grids: CAMELs\\\\SIMBA_CV_z=0\\\\Grids_Mcdm_SIMBA_CV_128_z=0.0.npy UNITS: $M_{\\odot}/h/(Mpc/h)^3$\n",
    "# electron density grids: CAMELs\\\\SIMBA_CV_z=0\\\\Grids_ne_SIMBA_CV_128_z=0.0.npy\" UNITS: r\"$(Mpc/h)^{-3}$\"\n",
    "# temperature grids: CAMELs\\\\SIMBA_CV_z=0\\\\Grids_T_SIMBA_CV_128_z=0.0.npy\""
   ]
  },
  {
   "cell_type": "markdown",
   "id": "212f0c10-a68c-46e8-8b7b-a5d526880c48",
   "metadata": {},
   "source": [
    "# Data Visualiser "
   ]
  },
  {
   "cell_type": "code",
   "execution_count": 2,
   "id": "c6758034-1300-406b-9b9f-e31be76b7b7b",
   "metadata": {},
   "outputs": [
    {
     "data": {
      "application/vnd.jupyter.widget-view+json": {
       "model_id": "c5a155086176469a8c08f091533309e5",
       "version_major": 2,
       "version_minor": 0
      },
      "text/plain": [
       "IntSlider(value=0, description='Slice', max=127)"
      ]
     },
     "metadata": {},
     "output_type": "display_data"
    },
    {
     "data": {
      "application/vnd.jupyter.widget-view+json": {
       "model_id": "182e37c532d2423da18fa0fd8d525c41",
       "version_major": 2,
       "version_minor": 0
      },
      "text/plain": [
       "Output()"
      ]
     },
     "metadata": {},
     "output_type": "display_data"
    }
   ],
   "source": [
    "# Function to update plot\n",
    "def plot_slice(i, grid):\n",
    "    fig, axes = plt.subplots(figsize=(8, 8))\n",
    "    img = axes.imshow(np.log10(grid[i]), cmap=\"rainbow\")\n",
    "\n",
    "    # Setting labels\n",
    "    axes.set_xlabel(\"(Mpc/h)\")\n",
    "    axes.set_ylabel(\"(Mpc/h)\")\n",
    "    axes.set_title(QUANTITY)\n",
    "\n",
    "    # Custom xtick and ytick labels\n",
    "    def custom_formatter(x, pos):\n",
    "        return f'{x*25}'\n",
    "\n",
    "    FORMATTER = FuncFormatter(custom_formatter)\n",
    "    axes.xaxis.set_major_formatter(FORMATTER)\n",
    "    axes.yaxis.set_major_formatter(FORMATTER)\n",
    "\n",
    "    # Adding color bar\n",
    "    cbar = plt.colorbar(img, ax=axes, orientation=\"vertical\")\n",
    "    cbar.set_label(\"Log(\" + UNITS + \")\")\n",
    "\n",
    "    plt.show()\n",
    "\n",
    "# Creating slider widget,\n",
    "grid = grids[0]\n",
    "grid_zlength = (grid.shape[2] - 1)\n",
    "slider = widgets.IntSlider(min = 0, max = grid_zlength, value=0, description = \"Slice\")\n",
    "\n",
    "# Link slider to function\n",
    "output = widgets.interactive_output(lambda i: plot_slice(i, grid), {'i': slider})\n",
    "\n",
    "# Display slider and plot\n",
    "display(slider, output)"
   ]
  },
  {
   "cell_type": "markdown",
   "id": "7ed67a1f-8394-4629-ae3b-d58037c3613f",
   "metadata": {},
   "source": [
    "# Data Processing"
   ]
  },
  {
   "cell_type": "code",
   "execution_count": 19,
   "id": "c993df08-ab23-4ce9-9ca4-578823889b9b",
   "metadata": {},
   "outputs": [],
   "source": [
    "def create_subcubes(voxel_grid, subcube_length):\n",
    "    \"\"\"Given a 3D Numpy array which represents a grid of voxels, this function returns a 4D array which is a list of 3D sub-grids or subcubes \n",
    "    of the input grid of voxels. \n",
    "\n",
    "    PARAMETERS:\n",
    "    voxel_grid - 3D NumPy array. Our input voxel array. Must be a cube with all each dimension being the same size.\n",
    "    subcube_length - The voxel length of each subcube.\"\"\"\n",
    "\n",
    "    N_subcubes = int(voxel_grid.shape[0] // subcube_length)\n",
    "    shape = (N_subcubes, N_subcubes, N_subcubes, subcube_length, subcube_length, subcube_length)\n",
    "\n",
    "    # Use NumPy's as_strided to avoid extra copies,\n",
    "    from numpy.lib.stride_tricks import as_strided\n",
    "    strides = voxel_grid.strides\n",
    "    subcubes = as_strided(\n",
    "        voxel_grid,\n",
    "        shape=shape,\n",
    "        strides=(subcube_length * strides[0], subcube_length * strides[1], subcube_length * strides[2], *strides)\n",
    "    )\n",
    "    return subcubes.reshape(-1, subcube_length, subcube_length, subcube_length)\n",
    "\n",
    "def grid_rotations(grid):\n",
    "    \"\"\"Given a 3D NumPy array representing a grid of voxels, this function returns all rotations of said grid as a 4D array which\n",
    "    presents a list of each rotated grid.\n",
    "    \n",
    "    PARAMETERS:\n",
    "    grid - 3D NumPy Array.\"\"\"\n",
    "    rotations = []\n",
    "    for axes in [(0,1,2), (0,2,1), (1,0,2), (1,2,0), (2,0,1), (2,1,0)]:\n",
    "        rotated = np.transpose(grid, axes)\n",
    "        for k in range(4):  # 90-degree rotations in XY plane\n",
    "            rotations.append(np.rot90(rotated, k=k, axes=(1,2)))\n",
    "\n",
    "    return np.stack(rotations, axis=0)  # Use np.stack instead of np.array\n",
    "\n",
    "def create_rotations(grids):\n",
    "    \"\"\"Generates all rotations for multiple 3D grids efficiently.\"\"\"\n",
    "    return np.concatenate([grid_rotations(grid) for grid in grids], axis=0)\n",
    "\n",
    "def create_all_subcubes(grids, subcube_length):\n",
    "    \"\"\"Extracts subcubes from all input grids efficiently.\"\"\"\n",
    "    return np.concatenate([create_subcubes(grid, subcube_length) for grid in grids], axis=0)\n",
    "\n",
    "def process_grids(grids, subcube_length, batch_size):\n",
    "    \"\"\"Processes grids in smaller batches to prevent memory overflow.\"\"\"\n",
    "\n",
    "    processed_grids = []  # Use a list instead of NumPy array for efficiency\n",
    "    \n",
    "    for i in range(0, len(grids), batch_size):  # Process in batches\n",
    "        batch = grids[i : i + batch_size]\n",
    "        \n",
    "        batch_subcubes = []\n",
    "        for grid in batch:\n",
    "            sub_grids = create_subcubes(voxel_grid=grid, subcube_length=subcube_length)\n",
    "            batch_subcubes.append(sub_grids)\n",
    "        \n",
    "        processed_grids.append(np.concatenate(batch_subcubes, axis=0))\n",
    "\n",
    "    \"\"\"#total_rotations = 24 * len(grids)\n",
    "    total_subcubes_per_grid = (grids.shape[1] // subcube_length) ** 3\n",
    "    #total_subcubes = total_rotations * total_subcubes_per_grid\n",
    "\n",
    "    output_shape = (total_subcubes_per_grid, subcube_length, subcube_length, subcube_length)\n",
    "    processed_subcubes = np.empty(output_shape, dtype=grids.dtype)\n",
    "\n",
    "    index = 0\n",
    "    total_batches = (len(grids) + batch_size - 1) // batch_size  # Compute total batch count\n",
    "\n",
    "    for batch_num, i in enumerate(range(0, len(grids), batch_size), start = 1):\n",
    "        batch = grids[i : i + batch_size]\n",
    "        #rotated_batch = create_rotations(batch)\n",
    "        #del batch  # Free memory\n",
    "\n",
    "        subcubes_batch = create_all_subcubes(batch, subcube_length)\n",
    "        #del rotated_batch  # Free memory\n",
    "\n",
    "        processed_subcubes[index : index + subcubes_batch.shape[0]] = subcubes_batch\n",
    "        index += subcubes_batch.shape[0]\n",
    "\n",
    "        gc.collect()  # Force memory cleanup\n",
    "\n",
    "        # Progress bar,\n",
    "        progress = batch_num / total_batches\n",
    "        bar_length = 40\n",
    "        filled_length = int(bar_length * progress)\n",
    "        bar = '=' * filled_length + '-' * (bar_length - filled_length)\n",
    "        sys.stdout.write(f\"[{bar}] {progress*100:.2f} %\")\n",
    "        sys.stdout.flush()\"\"\"\n",
    "\n",
    "    return np.concatenate(processed_grids, axis=0) "
   ]
  },
  {
   "cell_type": "code",
   "execution_count": 32,
   "id": "e6e675f1-3e1f-4dfc-ab4c-406da124f285",
   "metadata": {},
   "outputs": [
    {
     "name": "stdout",
     "output_type": "stream",
     "text": [
      "Creating: Dark Matter Mass Density-SIMBA_CV_z=0-PROCESSED-TEST.npy\n",
      "\n",
      "Saving File...\n",
      "File Saved.\n"
     ]
    }
   ],
   "source": [
    "\"\"\"PROCESSING PIPELINE\"\"\"\n",
    "\n",
    "# PARAMETERS,\n",
    "SUBCUBE_SIZE = 32\n",
    "BATCH_SIZE = 1\n",
    "\n",
    "if TEST:\n",
    "    SAVE_FILE_NAME = QUANTITY + \"-\" + SPEC + \"-PROCESSED-TEST.npy\"\n",
    "else:\n",
    "    SAVE_FILE_NAME = QUANTITY + \"-\" + SPEC + \"-PROCESSED.npy\"\n",
    "\n",
    "# Processing DMO grids,\n",
    "print(f\"Creating: {SAVE_FILE_NAME}\")\n",
    "sub_grids = process_grids(grids = grids, subcube_length = SUBCUBE_SIZE, batch_size = BATCH_SIZE)\n",
    "\n",
    "# Saving data,\n",
    "print()\n",
    "print(\"Saving File...\")\n",
    "np.save(SAVE_FILE_NAME, sub_grids)\n",
    "print(\"File Saved.\")"
   ]
  },
  {
   "cell_type": "code",
   "execution_count": 29,
   "id": "2862f3a3-f12f-4361-bbfe-ab5c9af5d44f",
   "metadata": {},
   "outputs": [
    {
     "data": {
      "application/vnd.jupyter.widget-view+json": {
       "model_id": "6f7c1b1c50a843b983fd4711a052aa89",
       "version_major": 2,
       "version_minor": 0
      },
      "text/plain": [
       "IntSlider(value=0, description='Slice', max=31)"
      ]
     },
     "metadata": {},
     "output_type": "display_data"
    },
    {
     "data": {
      "application/vnd.jupyter.widget-view+json": {
       "model_id": "b94d6779668b414a8045eb763583bc01",
       "version_major": 2,
       "version_minor": 0
      },
      "text/plain": [
       "Output()"
      ]
     },
     "metadata": {},
     "output_type": "display_data"
    }
   ],
   "source": [
    "# Creating slider widget,\n",
    "grid = sub_grids[0]\n",
    "grid_zlength = (grid.shape[2] - 1)\n",
    "slider = widgets.IntSlider(min = 0, max = grid_zlength, value=0, description = \"Slice\")\n",
    "\n",
    "# Link slider to function\n",
    "output = widgets.interactive_output(lambda i: plot_slice(i, grid), {'i': slider})\n",
    "\n",
    "# Display slider and plot\n",
    "display(slider, output)"
   ]
  },
  {
   "cell_type": "code",
   "execution_count": null,
   "id": "ce00ce66-6ebf-4c4d-810d-bd19ebb0e916",
   "metadata": {},
   "outputs": [],
   "source": []
  }
 ],
 "metadata": {
  "kernelspec": {
   "display_name": "Python 3 (ipykernel)",
   "language": "python",
   "name": "python3"
  },
  "language_info": {
   "codemirror_mode": {
    "name": "ipython",
    "version": 3
   },
   "file_extension": ".py",
   "mimetype": "text/x-python",
   "name": "python",
   "nbconvert_exporter": "python",
   "pygments_lexer": "ipython3",
   "version": "3.12.5"
  }
 },
 "nbformat": 4,
 "nbformat_minor": 5
}
