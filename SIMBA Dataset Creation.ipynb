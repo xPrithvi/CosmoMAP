{
 "cells": [
  {
   "cell_type": "code",
   "execution_count": 1,
   "id": "9a8cd633-d385-44eb-9fbe-a9393b988bcd",
   "metadata": {},
   "outputs": [],
   "source": [
    "# Imports,\n",
    "from sklearn.model_selection import train_test_split\n",
    "import matplotlib.pyplot as plt\n",
    "import numpy as np\n",
    "import torch\n",
    "\n",
    "# Functions,\n",
    "def MinMaxNorm(array):\n",
    "    MIN, MAX = np.min(array.flatten()), np.max(array.flatten())\n",
    "    return (array - MIN)/(MAX - MIN)"
   ]
  },
  {
   "cell_type": "code",
   "execution_count": 2,
   "id": "6fa9eadb-3ef6-44b6-8bcb-6e8d7686fefb",
   "metadata": {},
   "outputs": [],
   "source": [
    "# Loading data,\n",
    "input_grids = np.load(\"Dark Matter Mass Density-SIMBA_CV_z=0-PROCESSED-TEST.npy\")\n",
    "target_grids = np.load(\"Electron Number Density-SIMBA_CV_z=0-PROCESSED-TEST.npy\")\n",
    "\n",
    "# Defining the split,\n",
    "TRAIN_PROP = 0.7\n",
    "VALIDATION_PROP = 0.15\n",
    "TEST_PROP = 0.15\n",
    "RANDOM_STATE = 42\n",
    "\n",
    "data_length = input_grids.shape[0]\n",
    "data_indices = np.arange(start = 0, stop = data_length, step = 1)\n",
    "\n",
    "# Shuffling the indices,\n",
    "np.random.shuffle(data_indices)\n",
    "\n",
    "# Split indices into train and temp (val+test),\n",
    "train_indices, temp_indices = train_test_split(data_indices, test_size = (VALIDATION_PROP + TEST_PROP), random_state = RANDOM_STATE)\n",
    "\n",
    "# Further split temp into validation and test,\n",
    "val_indices, test_indices = train_test_split(temp_indices, test_size = (TEST_PROP/(VALIDATION_PROP + TEST_PROP)), random_state = RANDOM_STATE)\n",
    "\n",
    "# Creating training, testing and validation data,\n",
    "X_train, Y_train = input_grids[train_indices], target_grids[train_indices]\n",
    "X_test, Y_test = input_grids[test_indices], target_grids[test_indices]\n",
    "X_val, Y_val = input_grids[val_indices], target_grids[val_indices]\n",
    "\n",
    "# Modifying the dynamic range of the data,\n",
    "X_train = np.log10(X_train)\n",
    "Y_train = np.log10(Y_train)\n",
    "X_test = np.log10(X_test)\n",
    "Y_test = np.log10(Y_test)\n",
    "\n",
    "# Applying Min-Max Normalisation,\n",
    "X_train, Y_train = MinMaxNorm(X_train), MinMaxNorm(Y_train)\n",
    "X_test, Y_test = MinMaxNorm(X_test), MinMaxNorm(Y_test)\n",
    "X_val, Y_val = MinMaxNorm(X_val), MinMaxNorm(Y_val)"
   ]
  },
  {
   "cell_type": "code",
   "execution_count": 3,
   "id": "79917e40-3ddb-49e7-aa5f-f692587604f4",
   "metadata": {},
   "outputs": [],
   "source": [
    "# Reshaping arrays to correct format (batch, channel, z, y, x),\n",
    "X_train, Y_train = np.expand_dims(X_train, axis = 1), np.expand_dims(Y_train, axis = 1)\n",
    "X_test, Y_test = np.expand_dims(X_test, axis = 1), np.expand_dims(Y_test, axis = 1)\n",
    "X_val, Y_val = np.expand_dims(X_val, axis = 1), np.expand_dims(Y_val, axis = 1)\n",
    "\n",
    "# Coverting Numpy arrays into torch tensors,\n",
    "X_train, Y_train = torch.tensor(X_train, dtype = torch.float32), torch.tensor(Y_train, dtype = torch.float32)\n",
    "X_test, Y_test = torch.tensor(X_test, dtype = torch.float32), torch.tensor(Y_test, dtype = torch.float32)\n",
    "X_val, Y_val = torch.tensor(X_val, dtype = torch.float32), torch.tensor(Y_val, dtype = torch.float32)\n",
    "\n",
    "# Creating tuples,\n",
    "train_tuple, test_tuple, val_tuple = (X_train, Y_train), (X_test, Y_test), (X_val, Y_val)\n",
    "\n",
    "# Saving datasets as pt files,\n",
    "torch.save(train_tuple, \"train.pt\")\n",
    "torch.save(test_tuple, \"test.pt\")\n",
    "torch.save(val_tuple, \"validation.pt\")"
   ]
  },
  {
   "cell_type": "code",
   "execution_count": 4,
   "id": "3c1994b4-f8c3-464f-b575-f0a751446beb",
   "metadata": {},
   "outputs": [
    {
     "data": {
      "image/png": "[encoded data removed]",
      "text/plain": [
       "<Figure size 640x480 with 1 Axes>"
      ]
     },
     "metadata": {},
     "output_type": "display_data"
    }
   ],
   "source": [
    "plt.hist(X_train.flatten())\n",
    "plt.show()"
   ]
  },
  {
   "cell_type": "code",
   "execution_count": 5,
   "id": "42a6ea79-cf33-409b-a678-7b64ef74a43c",
   "metadata": {},
   "outputs": [
    {
     "data": {
      "image/png": "[encoded data removed]",
      "text/plain": [
       "<Figure size 640x480 with 1 Axes>"
      ]
     },
     "metadata": {},
     "output_type": "display_data"
    }
   ],
   "source": [
    "plt.hist(Y_train.flatten())\n",
    "plt.show()"
   ]
  },
  {
   "cell_type": "code",
   "execution_count": null,
   "id": "fbe2e568-b953-4aa7-bddd-0eed5a9f174f",
   "metadata": {},
   "outputs": [],
   "source": []
  }
 ],
 "metadata": {
  "kernelspec": {
   "display_name": "Python 3 (ipykernel)",
   "language": "python",
   "name": "python3"
  },
  "language_info": {
   "codemirror_mode": {
    "name": "ipython",
    "version": 3
   },
   "file_extension": ".py",
   "mimetype": "text/x-python",
   "name": "python",
   "nbconvert_exporter": "python",
   "pygments_lexer": "ipython3",
   "version": "3.12.5"
  }
 },
 "nbformat": 4,
 "nbformat_minor": 5
}
